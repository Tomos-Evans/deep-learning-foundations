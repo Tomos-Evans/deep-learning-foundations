{
 "cells": [
  {
   "cell_type": "markdown",
   "metadata": {
    "collapsed": true
   },
   "source": [
    "# Logistic Regression Overview\n",
    "\n",
    "Logistic Regression uses trends in the data in order to predict which class a new data-point belongs to.\n",
    "\n",
    "In order to find the line that cuts the data in the \"best\" place (i.e. splits the classes most clearly) we can use **Gradient Decent**. A line is drawn randomly, and the number of errors (or later, the error value) is measurd. Then, we preform gradient decent on this error value in order to minimise the error, resulting in a line that seperates the data well.\n",
    "\n",
    "The **Error Function** that was mentioned is more complex than simply counting the number of incorrectly classified points. Instead, it works on a penalty system, where correctly classified points recieve a small penaty, and incorrect point recieve a very large penalty. This system takes into account the whole data space, which is good. \n",
    "\n",
    "Gradient Decent is now applied to the system minimising the result of the error function. A simple implamentation of the error function could be:"
   ]
  },
  {
   "cell_type": "code",
   "execution_count": 2,
   "metadata": {
    "collapsed": true
   },
   "outputs": [],
   "source": [
    "def error_function(dataspace):\n",
    "    return sum(d.error for d in dataspace)"
   ]
  },
  {
   "cell_type": "markdown",
   "metadata": {},
   "source": [
    "However, it is not usual that a large dataspace can be split into correct classes using a single straight line. Often, multiple devisor line, curves, and circles may be needed to correctly classify a new point. \n",
    "\n",
    "Neural Networks are good at solving these problems."
   ]
  },
  {
   "cell_type": "markdown",
   "metadata": {},
   "source": [
    "# Basic Neural Network\n",
    "\n",
    "In the case of a dataspace being classified by two distinct lines, in order to classify a new point, we must check if it is in the area that is classified by the two lines. This is a complec operations, so it is possible to break it down. \n",
    "\n",
    "We could instead ask three simple questuins, and orientatie them into a Neural Network.\n",
    "\n",
    "1. Is the new point above the first line?\n",
    "2. Is the new point above the second line?\n",
    "3. Were the previous answers **BOTH** true?\n",
    "\n",
    "This problem is now well suited to Neural nets, seen in the diagram below\n",
    "\n",
    "INSERT DIAGRAM HERE"
   ]
  }
 ],
 "metadata": {
  "kernelspec": {
   "display_name": "Python 3",
   "language": "python",
   "name": "python3"
  },
  "language_info": {
   "codemirror_mode": {
    "name": "ipython",
    "version": 3
   },
   "file_extension": ".py",
   "mimetype": "text/x-python",
   "name": "python",
   "nbconvert_exporter": "python",
   "pygments_lexer": "ipython3",
   "version": "3.6.1"
  }
 },
 "nbformat": 4,
 "nbformat_minor": 2
}
